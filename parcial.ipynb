{
 "cells": [
  {
   "cell_type": "markdown",
   "id": "90c41fc9",
   "metadata": {},
   "source": [
    "## Introdução\n",
    "\n",
    "Este projeto visa realizar uma coleta diária das principais manchetes das categorias do site do G1, de forma a analisar a distribuição de notícias por tema."
   ]
  },
  {
   "cell_type": "code",
   "execution_count": 1,
   "id": "62db0245",
   "metadata": {},
   "outputs": [],
   "source": [
    "# Importação de bibliotecas\n",
    "\n",
    "import requests\n",
    "from bs4 import BeautifulSoup\n",
    "import pandas as pd\n",
    "from datetime import datetime\n",
    "import matplotlib.pyplot as plt\n",
    "import time"
   ]
  },
  {
   "cell_type": "code",
   "execution_count": 2,
   "id": "7f0f65f2",
   "metadata": {},
   "outputs": [],
   "source": [
    "# Definição de assuntos e URLs\n",
    "\n",
    "categorias = {\n",
    "    'Política': 'https://g1.globo.com/politica/',\n",
    "    'Economia': 'https://g1.globo.com/economia/',\n",
    "    'Mundo': 'https://g1.globo.com/mundo/',\n",
    "    'Tecnologia': 'https://g1.globo.com/tecnologia/',\n",
    "    'Esportes': 'https://g1.globo.com/esporte/',\n",
    "    'Saúde': 'https://g1.globo.com/saude/',\n",
    "    'Cultura': 'https://g1.globo.com/pop-arte/'\n",
    "}"
   ]
  },
  {
   "cell_type": "code",
   "execution_count": 4,
   "id": "ae4ec419",
   "metadata": {},
   "outputs": [
    {
     "name": "stdout",
     "output_type": "stream",
     "text": [
      "Coletando Política...\n",
      "Coletando Economia...\n",
      "Coletando Mundo...\n",
      "Coletando Tecnologia...\n",
      "Coletando Esportes...\n",
      "Coletando Saúde...\n",
      "Coletando Cultura...\n"
     ]
    }
   ],
   "source": [
    "# Coleta de dados\n",
    "\n",
    "dados = []\n",
    "data_coleta = datetime.now().strftime('%Y-%m-%d')\n",
    "\n",
    "for categoria, url in categorias.items():\n",
    "    print(f'Coletando {categoria}...')\n",
    "    response = requests.get(url)\n",
    "    soup = BeautifulSoup(response.content, 'html.parser')\n",
    "    noticias = soup.find_all('a', class_='feed-post-link')\n",
    "\n",
    "    for noticia in noticias:\n",
    "        titulo = noticia.get_text(strip=True)\n",
    "        if titulo:\n",
    "            dados.append({\n",
    "                'Data_Coleta': data_coleta,\n",
    "                'Categoria': categoria,\n",
    "                'Titulo': titulo\n",
    "            })\n",
    "    time.sleep(1)  # para garantir a leitura pelo tempo do servidor"
   ]
  },
  {
   "cell_type": "code",
   "execution_count": 5,
   "id": "e9f3b4e3",
   "metadata": {},
   "outputs": [
    {
     "data": {
      "text/html": [
       "<div>\n",
       "<style scoped>\n",
       "    .dataframe tbody tr th:only-of-type {\n",
       "        vertical-align: middle;\n",
       "    }\n",
       "\n",
       "    .dataframe tbody tr th {\n",
       "        vertical-align: top;\n",
       "    }\n",
       "\n",
       "    .dataframe thead th {\n",
       "        text-align: right;\n",
       "    }\n",
       "</style>\n",
       "<table border=\"1\" class=\"dataframe\">\n",
       "  <thead>\n",
       "    <tr style=\"text-align: right;\">\n",
       "      <th></th>\n",
       "      <th>Data_Coleta</th>\n",
       "      <th>Categoria</th>\n",
       "      <th>Titulo</th>\n",
       "    </tr>\n",
       "  </thead>\n",
       "  <tbody>\n",
       "    <tr>\n",
       "      <th>0</th>\n",
       "      <td>2025-05-12</td>\n",
       "      <td>Política</td>\n",
       "      <td>PGR defende que STF receba queixa-crime de Gle...</td>\n",
       "    </tr>\n",
       "    <tr>\n",
       "      <th>1</th>\n",
       "      <td>2025-05-12</td>\n",
       "      <td>Política</td>\n",
       "      <td>Importação de produtos chineses pelo Brasil cr...</td>\n",
       "    </tr>\n",
       "    <tr>\n",
       "      <th>2</th>\n",
       "      <td>2025-05-12</td>\n",
       "      <td>Política</td>\n",
       "      <td>Oposição apresenta pedido de criação da CPI do...</td>\n",
       "    </tr>\n",
       "    <tr>\n",
       "      <th>3</th>\n",
       "      <td>2025-05-12</td>\n",
       "      <td>Política</td>\n",
       "      <td>Homicídios caíram 1,4% no Brasil em 2023, indi...</td>\n",
       "    </tr>\n",
       "    <tr>\n",
       "      <th>4</th>\n",
       "      <td>2025-05-12</td>\n",
       "      <td>Política</td>\n",
       "      <td>Boulos é cotado para assumir ministério em ref...</td>\n",
       "    </tr>\n",
       "  </tbody>\n",
       "</table>\n",
       "</div>"
      ],
      "text/plain": [
       "  Data_Coleta Categoria                                             Titulo\n",
       "0  2025-05-12  Política  PGR defende que STF receba queixa-crime de Gle...\n",
       "1  2025-05-12  Política  Importação de produtos chineses pelo Brasil cr...\n",
       "2  2025-05-12  Política  Oposição apresenta pedido de criação da CPI do...\n",
       "3  2025-05-12  Política  Homicídios caíram 1,4% no Brasil em 2023, indi...\n",
       "4  2025-05-12  Política  Boulos é cotado para assumir ministério em ref..."
      ]
     },
     "execution_count": 5,
     "metadata": {},
     "output_type": "execute_result"
    }
   ],
   "source": [
    "# Limpeza de dados e criação do DataFrame\n",
    "\n",
    "df = pd.DataFrame(dados)\n",
    "df.drop_duplicates(inplace=True)\n",
    "df = df[df['Titulo'].str.strip() != '']\n",
    "df.reset_index(drop=True, inplace=True)\n",
    "df.head()"
   ]
  },
  {
   "cell_type": "code",
   "execution_count": 6,
   "id": "3282688d",
   "metadata": {},
   "outputs": [
    {
     "name": "stdout",
     "output_type": "stream",
     "text": [
      "Categoria\n",
      "Política      10\n",
      "Mundo         10\n",
      "Tecnologia    10\n",
      "Saúde         10\n",
      "Cultura       10\n",
      "Economia       7\n",
      "Name: count, dtype: int64\n"
     ]
    }
   ],
   "source": [
    "# Quantidade de notícias por assunto (resumo)\n",
    "\n",
    "contagem = df['Categoria'].value_counts()\n",
    "print(contagem)"
   ]
  },
  {
   "cell_type": "code",
   "execution_count": 7,
   "id": "8bd48e12",
   "metadata": {},
   "outputs": [
    {
     "data": {
      "image/png": "[encoded data removed]",
      "text/plain": [
       "<Figure size 640x480 with 1 Axes>"
      ]
     },
     "metadata": {},
     "output_type": "display_data"
    }
   ],
   "source": [
    "# Visualização da distribuição\n",
    "\n",
    "contagem.sort_values().plot(kind='barh', color='skyblue')\n",
    "plt.title('Quantidade de notícias por categoria')\n",
    "plt.xlabel('Número de notícias')\n",
    "plt.ylabel('Categoria')\n",
    "plt.show()"
   ]
  },
  {
   "cell_type": "markdown",
   "id": "56d2abfa",
   "metadata": {},
   "source": [
    "#### Problema:\n",
    "Note que a base de dados é diminuta, pois conta apenas com os dados relativos a 1 dia de análise das URLs do G1. Os próximos passos deste projeto circulam em torno de analisar o site por vários dias e armazenar as informações em um arquivo para aumentar a base de dados, possibilitando uma análise mais profunda."
   ]
  },
  {
   "cell_type": "code",
   "execution_count": 8,
   "id": "88db28fa",
   "metadata": {},
   "outputs": [
    {
     "name": "stdout",
     "output_type": "stream",
     "text": [
      "Arquivos salvos: g1_noticias_exemplo.csv e g1_noticias_exemplo.xlsx\n"
     ]
    }
   ],
   "source": [
    "# Exportação dos dados\n",
    "\n",
    "df.to_csv('g1_noticias_exemplo.csv', index=False)\n",
    "df.to_excel('g1_noticias_exemplo.xlsx', index=False)\n",
    "print('Arquivos salvos: g1_noticias_exemplo.csv e g1_noticias_exemplo.xlsx')"
   ]
  },
  {
   "cell_type": "markdown",
   "id": "8d6c2eda",
   "metadata": {},
   "source": [
    "## Conclusão parcial\n",
    "\n",
    "Foi realizada a coleta automatizada das manchetes das principais categorias do G1, a limpeza dos dados e o resumo gráfico da distribuição. A etapa seguinte do projeto será repetir o processo em diferentes dias para analisar variações e tendências ao longo do tempo."
   ]
  }
 ],
 "metadata": {
  "kernelspec": {
   "display_name": "base",
   "language": "python",
   "name": "python3"
  },
  "language_info": {
   "codemirror_mode": {
    "name": "ipython",
    "version": 3
   },
   "file_extension": ".py",
   "mimetype": "text/x-python",
   "name": "python",
   "nbconvert_exporter": "python",
   "pygments_lexer": "ipython3",
   "version": "3.9.18"
  }
 },
 "nbformat": 4,
 "nbformat_minor": 5
}
